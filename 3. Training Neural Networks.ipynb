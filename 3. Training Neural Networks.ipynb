{
 "cells": [
  {
   "cell_type": "markdown",
   "metadata": {},
   "source": [
    "# Training Neural Networks\n",
    "\n",
    "The network we built in the previous part isn't so smart, it doesn't know anything about our handwritten digits. Neural networks with non-linear activations work like universal function approximators. There is some function that maps your input to the output. For example, images of handwritten digits to class probabilities. The power of neural networks is that we can train them to approximate this function, and basically any function given enough data and compute time.\n",
    "\n",
    "<img src=\"assets/function_approx.png\" width=500px>\n",
    "\n",
    "At first the network is naive, it doesn't know the function mapping the inputs to the outputs. We train the network by showing it examples of real data, then adjusting the network parameters such that it approximates this function.\n",
    "\n",
    "To find these parameters, we need to know how poorly the network is predicting the real outputs. For this we calculate a **loss function** (also called the cost), a measure of our prediction error. For example, the mean squared loss is often used in regression and binary classification problems\n",
    "\n",
    "$$\n",
    "\\ell = \\frac{1}{2n}\\sum_i^n{\\left(y_i - \\hat{y}_i\\right)^2}\n",
    "$$\n",
    "\n",
    "where $n$ is the number of training examples, $y_i$ are the true labels, and $\\hat{y}_i$ are the predicted labels.\n",
    "\n",
    "By minimizing this loss with respect to the network parameters, we can find configurations where the loss is at a minimum and the network is able to predict the correct labels with high accuracy. We find this minimum using a process called **gradient descent**. The gradient is the slope of the loss function and points in the direction of fastest change. To get to the minimum in the least amount of time, we then want to follow the gradient (downwards). You can think of this like descending a mountain by following the steepest slope to the base.\n",
    "\n",
    "<img src='assets/gradient_descent.png' width=350px>"
   ]
  },
  {
   "cell_type": "markdown",
   "metadata": {},
   "source": [
    "## Backpropagation\n",
    "\n",
    "For single layer networks, gradient descent is simple to implement. However, it's more complicated for deeper, multilayer neural networks like the one we've built. Complicated enough that it took about 30 years before researchers figured out how to train multilayer networks, although it's straightforward once you learn about it. \n",
    "\n",
    "This is done through **backpropagation** which is really just an application of the chain rule from calculus. It's easiest to understand if we convert a two layer network into a graph representation.\n",
    "\n",
    "<img src='assets/w1_backprop_graph.png' width=400px>\n",
    "\n",
    "In the forward pass through the network, our data and operations go from right to left here. To train the weights with gradient descent, we propagate the gradient of the cost backwards through the network. Mathematically, this is really just calculating the gradient of the loss with respect to the weights using the chain rule.\n",
    "\n",
    "$$\n",
    "\\frac{\\partial \\ell}{\\partial w_1} = \\frac{\\partial l_1}{\\partial w_1} \\frac{\\partial s}{\\partial l_1} \\frac{\\partial l_2}{\\partial s} \\frac{\\partial \\ell}{\\partial l_2}\n",
    "$$\n",
    "\n",
    "We update our weights using this gradient with some learning rate $\\alpha$. \n",
    "\n",
    "$$\n",
    "w^\\prime = w - \\alpha \\frac{\\partial \\ell}{\\partial w}\n",
    "$$\n",
    "\n",
    "The learning rate is set such that the weight update steps are small enough that the iterative method settles in a minimum.\n",
    "\n",
    "The first thing we need to do for training is define our loss function. In PyTorch, you'll usually see this as `criterion`. Here we're using softmax output, so we want to use `criterion = nn.CrossEntropyLoss()` as our loss. Later when training, you use `loss = criterion(output, targets)` to calculate the actual loss.\n",
    "\n",
    "We also need to define the optimizer we're using, SGD or Adam, or something along those lines. Here I'll just use SGD with `torch.optim.SGD`, passing in the network parameters and the learning rate."
   ]
  },
  {
   "cell_type": "markdown",
   "metadata": {},
   "source": [
    "## Autograd\n",
    "\n",
    "Torch provides a module, `autograd`, for automatically calculating the gradient of tensors. It does this by keeping track of operations performed on tensors. To make sure PyTorch keeps track of operations on a tensor and calculates the gradients, you need to set `requires_grad` on a tensor. You can do this at creation with the `requires_grad` keyword, or at any time with `x.requires_grad_(True)`.\n",
    "\n",
    "You can turn off gradients for a block of code with the `torch.no_grad()` content:\n",
    "```python\n",
    "x = torch.zeros(1, requires_grad=True)\n",
    ">>> with torch.no_grad():\n",
    "...     y = x * 2\n",
    ">>> y.requires_grad\n",
    "False\n",
    "```\n",
    "\n",
    "Also, you can turn on or off gradients altogether with `torch.set_grad_enabled(True|False)`.\n",
    "\n",
    "The gradients are computed with respect to some variable `z` with `z.backward()`. This does a backward pass through the operations that created `z`."
   ]
  },
  {
   "cell_type": "code",
   "execution_count": 1,
   "metadata": {},
   "outputs": [],
   "source": [
    "%matplotlib inline\n",
    "%config InlineBackend.figure_format = 'retina'\n",
    "\n",
    "from collections import OrderedDict\n",
    "\n",
    "import numpy as np\n",
    "import time\n",
    "\n",
    "import torch\n",
    "from torch import nn\n",
    "from torch import optim\n",
    "import torch.nn.functional as F\n",
    "\n",
    "import helper"
   ]
  },
  {
   "cell_type": "code",
   "execution_count": 2,
   "metadata": {},
   "outputs": [
    {
     "name": "stdout",
     "output_type": "stream",
     "text": [
      "tensor([[-0.0509,  0.7013],\n",
      "        [-0.5199, -0.0375]])\n"
     ]
    }
   ],
   "source": [
    "#requires_grad=True tells pytorch to track all the operations on this tensor using auto grad. \n",
    "#Eventually we will be able to calculate the gradient for it \n",
    "\n",
    "x = torch.randn(2,2, requires_grad=True)\n",
    "print(x)"
   ]
  },
  {
   "cell_type": "code",
   "execution_count": 3,
   "metadata": {},
   "outputs": [
    {
     "name": "stdout",
     "output_type": "stream",
     "text": [
      "tensor([[ 0.0026,  0.4918],\n",
      "        [ 0.2703,  0.0014]])\n"
     ]
    }
   ],
   "source": [
    "y = x**2\n",
    "print(y)"
   ]
  },
  {
   "cell_type": "markdown",
   "metadata": {},
   "source": [
    "Below we can see the operation that created `y`, a power operation `PowBackward0`."
   ]
  },
  {
   "cell_type": "code",
   "execution_count": 4,
   "metadata": {},
   "outputs": [
    {
     "name": "stdout",
     "output_type": "stream",
     "text": [
      "<PowBackward0 object at 0x7fd7482055c0>\n"
     ]
    }
   ],
   "source": [
    "## grad_fn shows the function that generated this variable\n",
    "print(y.grad_fn)"
   ]
  },
  {
   "cell_type": "markdown",
   "metadata": {},
   "source": [
    "The autgrad module keeps track of these operations and knows how to calculate the gradient for each one. In this way, it's able to calculate the gradients for a chain of operations, with respect to any one tensor. Let's reduce the tensor `y` to a scalar value, the mean."
   ]
  },
  {
   "cell_type": "code",
   "execution_count": 5,
   "metadata": {},
   "outputs": [
    {
     "name": "stdout",
     "output_type": "stream",
     "text": [
      "tensor(0.1915)\n"
     ]
    }
   ],
   "source": [
    "z = y.mean()\n",
    "print(z)"
   ]
  },
  {
   "cell_type": "markdown",
   "metadata": {},
   "source": [
    "You can check the gradients for `x` and `y` but they are empty currently."
   ]
  },
  {
   "cell_type": "code",
   "execution_count": 6,
   "metadata": {},
   "outputs": [
    {
     "name": "stdout",
     "output_type": "stream",
     "text": [
      "None\n"
     ]
    }
   ],
   "source": [
    "print(x.grad)"
   ]
  },
  {
   "cell_type": "markdown",
   "metadata": {},
   "source": [
    "To calculate the gradients, you need to run the `.backward` method on a Variable, `z` for example. This will calculate the gradient for `z` with respect to `x`\n",
    "\n",
    "$$\n",
    "\\frac{\\partial z}{\\partial x} = \\frac{\\partial}{\\partial x}\\left[\\frac{1}{n}\\sum_i^n x_i^2\\right] = \\frac{x}{2}\n",
    "$$"
   ]
  },
  {
   "cell_type": "code",
   "execution_count": 7,
   "metadata": {},
   "outputs": [
    {
     "name": "stdout",
     "output_type": "stream",
     "text": [
      "tensor([[-0.0255,  0.3506],\n",
      "        [-0.2600, -0.0188]])\n",
      "tensor([[-0.0255,  0.3506],\n",
      "        [-0.2600, -0.0188]])\n"
     ]
    }
   ],
   "source": [
    "z.backward()\n",
    "print(x.grad)\n",
    "print(x/2)"
   ]
  },
  {
   "cell_type": "markdown",
   "metadata": {},
   "source": [
    "These gradients calculations are particularly useful for neural networks. For training we need the gradients of the weights with respect to the cost. With PyTorch, we run data forward through the network to calculate the cost, then, go backwards to calculate the gradients with respect to the cost. Once we have the gradients we can make a gradient descent step. "
   ]
  },
  {
   "cell_type": "markdown",
   "metadata": {},
   "source": [
    "## Get the data and define the network\n",
    "\n",
    "The same as we saw in part 3, we'll load the MNIST dataset and define our network."
   ]
  },
  {
   "cell_type": "code",
   "execution_count": 8,
   "metadata": {},
   "outputs": [],
   "source": [
    "from torchvision import datasets, transforms\n",
    "\n",
    "# Define a transform to normalize the data\n",
    "transform = transforms.Compose([transforms.ToTensor(),\n",
    "                              transforms.Normalize((0.5, 0.5, 0.5), (0.5, 0.5, 0.5)),\n",
    "                             ])\n",
    "# Download and load the training data\n",
    "trainset = datasets.MNIST('MNIST_data/', download=True, train=True, transform=transform)\n",
    "trainloader = torch.utils.data.DataLoader(trainset, batch_size=64, shuffle=True)"
   ]
  },
  {
   "cell_type": "markdown",
   "metadata": {},
   "source": [
    "I'll build a network with `nn.Sequential` here. Only difference from the last part is I'm not actually using softmax on the output, but instead just using the raw output from the last layer. This is because the output from softmax is a probability distribution. Often, the output will have values really close to zero or really close to one. Due to [inaccuracies with representing numbers as floating points](https://docs.python.org/3/tutorial/floatingpoint.html), computations with a softmax output can lose accuracy and become unstable. To get around this, we'll use the raw output, called the **logits**, to calculate the loss."
   ]
  },
  {
   "cell_type": "code",
   "execution_count": 9,
   "metadata": {},
   "outputs": [],
   "source": [
    "# Hyperparameters for our network\n",
    "input_size = 784\n",
    "hidden_sizes = [128, 64]\n",
    "output_size = 10\n",
    "\n",
    "# Build a feed-forward network\n",
    "model = nn.Sequential(OrderedDict([\n",
    "                      ('fc1', nn.Linear(input_size, hidden_sizes[0])),\n",
    "                      ('relu1', nn.ReLU()),\n",
    "                      ('fc2', nn.Linear(hidden_sizes[0], hidden_sizes[1])),\n",
    "                      ('relu2', nn.ReLU()),\n",
    "                      ('logits', nn.Linear(hidden_sizes[1], output_size))]))"
   ]
  },
  {
   "cell_type": "markdown",
   "metadata": {},
   "source": [
    "## Training the network!\n",
    "\n",
    "The first thing we need to do for training is define our loss function. In PyTorch, you'll usually see this as `criterion`. Here we're using softmax output, so we want to use `criterion = nn.CrossEntropyLoss()` as our loss. Later when training, you use `loss = criterion(output, targets)` to calculate the actual loss.\n",
    "\n",
    "We also need to define the optimizer we're using, SGD or Adam, or something along those lines. Here I'll just use SGD with `torch.optim.SGD`, passing in the network parameters and the learning rate."
   ]
  },
  {
   "cell_type": "code",
   "execution_count": 10,
   "metadata": {},
   "outputs": [],
   "source": [
    "criterion = nn.CrossEntropyLoss()\n",
    "\n",
    "#passing in the paramers that we want to optimize ;  here we want to optimize all the params\n",
    "optimizer = optim.SGD(model.parameters(), lr=0.01)"
   ]
  },
  {
   "cell_type": "markdown",
   "metadata": {},
   "source": [
    "First, let's consider just one learning step before looping through all the data. The general process with PyTorch:\n",
    "\n",
    "* Make a forward pass through the network to get the logits \n",
    "* Use the logits to calculate the loss\n",
    "* Perform a backward pass through the network with `loss.backward()` to calculate the gradients\n",
    "* Take a step with the optimizer to update the weights\n",
    "\n",
    "Below I'll go through one training step and print out the weights and gradients so you can see how it changes."
   ]
  },
  {
   "cell_type": "code",
   "execution_count": 11,
   "metadata": {},
   "outputs": [
    {
     "name": "stdout",
     "output_type": "stream",
     "text": [
      "Initial weights -  Parameter containing:\n",
      "tensor([[-7.1846e-05, -1.0211e-02,  1.5078e-02,  ...,  1.7580e-02,\n",
      "         -2.0341e-02, -1.0391e-02],\n",
      "        [-1.7163e-02,  5.5188e-03,  3.3827e-02,  ..., -1.3789e-02,\n",
      "          3.1787e-02,  2.9893e-02],\n",
      "        [-2.0804e-02, -4.0301e-03,  1.5197e-02,  ..., -3.4565e-02,\n",
      "         -3.5626e-02,  2.6080e-02],\n",
      "        ...,\n",
      "        [ 1.9922e-02, -2.0684e-02,  3.2838e-02,  ...,  2.8548e-03,\n",
      "         -2.7209e-02,  3.3201e-02],\n",
      "        [ 2.9613e-02, -2.5569e-02,  1.9652e-02,  ...,  7.5718e-03,\n",
      "          3.4016e-02,  8.6954e-03],\n",
      "        [ 4.7802e-03,  9.5093e-03,  2.3562e-02,  ...,  2.8192e-02,\n",
      "         -2.9808e-02, -9.7068e-03]])\n",
      "Gradient - tensor(1.00000e-02 *\n",
      "       [[-0.0733, -0.0733, -0.0733,  ..., -0.0733, -0.0733, -0.0733],\n",
      "        [ 0.3350,  0.3350,  0.3350,  ...,  0.3350,  0.3350,  0.3350],\n",
      "        [ 0.1537,  0.1537,  0.1537,  ...,  0.1537,  0.1537,  0.1537],\n",
      "        ...,\n",
      "        [-0.4581, -0.4581, -0.4581,  ..., -0.4581, -0.4581, -0.4581],\n",
      "        [ 0.0191,  0.0191,  0.0191,  ...,  0.0191,  0.0191,  0.0191],\n",
      "        [ 0.0000,  0.0000,  0.0000,  ...,  0.0000,  0.0000,  0.0000]])\n"
     ]
    }
   ],
   "source": [
    "print('Initial weights - ', model.fc1.weight)\n",
    "\n",
    "images, labels = next(iter(trainloader))\n",
    "images.resize_(64, 784)\n",
    "\n",
    "# Clear the gradients, do this because everytime we move backwards the gradients are accumulated\n",
    "# ie we dont want to sum up gradients with every backward pass\n",
    "# we need new gradients for each new forward pass\n",
    "# doubt : is it set to zero for each new batch?\n",
    "optimizer.zero_grad()\n",
    "\n",
    "# Forward pass, then backward pass, then update weights\n",
    "output = model.forward(images)\n",
    "loss = criterion(output, labels)\n",
    "\n",
    "#backward pass; it calculated the gradients for all our parameters\n",
    "loss.backward()\n",
    "print('Gradient -', model.fc1.weight.grad)\n",
    "\n",
    "\n",
    "#taking an opimizer strep and updating our weights\n",
    "optimizer.step()"
   ]
  },
  {
   "cell_type": "code",
   "execution_count": 12,
   "metadata": {},
   "outputs": [
    {
     "name": "stdout",
     "output_type": "stream",
     "text": [
      "Updated weights -  Parameter containing:\n",
      "tensor([[-6.4516e-05, -1.0204e-02,  1.5085e-02,  ...,  1.7588e-02,\n",
      "         -2.0334e-02, -1.0383e-02],\n",
      "        [-1.7197e-02,  5.4853e-03,  3.3794e-02,  ..., -1.3822e-02,\n",
      "          3.1754e-02,  2.9859e-02],\n",
      "        [-2.0820e-02, -4.0454e-03,  1.5182e-02,  ..., -3.4580e-02,\n",
      "         -3.5641e-02,  2.6065e-02],\n",
      "        ...,\n",
      "        [ 1.9968e-02, -2.0638e-02,  3.2883e-02,  ...,  2.9006e-03,\n",
      "         -2.7163e-02,  3.3247e-02],\n",
      "        [ 2.9611e-02, -2.5571e-02,  1.9650e-02,  ...,  7.5699e-03,\n",
      "          3.4014e-02,  8.6935e-03],\n",
      "        [ 4.7802e-03,  9.5093e-03,  2.3562e-02,  ...,  2.8192e-02,\n",
      "         -2.9808e-02, -9.7068e-03]])\n"
     ]
    }
   ],
   "source": [
    "print('Updated weights - ', model.fc1.weight)"
   ]
  },
  {
   "cell_type": "markdown",
   "metadata": {},
   "source": [
    "### Training for real\n",
    "\n",
    "Now we'll put this algorithm into a loop so we can go through all the images. This is fairly straightforward. We'll loop through the mini-batches in our dataset, pass the data through the network to calculate the losses, get the gradients, then run the optimizer."
   ]
  },
  {
   "cell_type": "code",
   "execution_count": 13,
   "metadata": {},
   "outputs": [],
   "source": [
    "optimizer = optim.SGD(model.parameters(), lr=0.003)"
   ]
  },
  {
   "cell_type": "code",
   "execution_count": 14,
   "metadata": {},
   "outputs": [
    {
     "name": "stdout",
     "output_type": "stream",
     "text": [
      "Epoch: 1/3...  Loss: 2.3028\n",
      "Epoch: 1/3...  Loss: 2.2815\n",
      "Epoch: 1/3...  Loss: 2.2648\n",
      "Epoch: 1/3...  Loss: 2.2418\n",
      "Epoch: 1/3...  Loss: 2.2199\n",
      "Epoch: 1/3...  Loss: 2.2017\n",
      "Epoch: 1/3...  Loss: 2.1698\n",
      "Epoch: 1/3...  Loss: 2.1419\n",
      "Epoch: 1/3...  Loss: 2.1124\n",
      "Epoch: 1/3...  Loss: 2.0728\n",
      "Epoch: 1/3...  Loss: 2.0352\n",
      "Epoch: 1/3...  Loss: 1.9954\n",
      "Epoch: 1/3...  Loss: 1.9455\n",
      "Epoch: 1/3...  Loss: 1.8976\n",
      "Epoch: 1/3...  Loss: 1.8286\n",
      "Epoch: 1/3...  Loss: 1.7786\n",
      "Epoch: 1/3...  Loss: 1.6988\n",
      "Epoch: 1/3...  Loss: 1.6442\n",
      "Epoch: 1/3...  Loss: 1.5793\n",
      "Epoch: 1/3...  Loss: 1.5117\n",
      "Epoch: 1/3...  Loss: 1.4441\n",
      "Epoch: 1/3...  Loss: 1.3731\n",
      "Epoch: 1/3...  Loss: 1.3039\n",
      "Epoch: 2/3...  Loss: 0.7000\n",
      "Epoch: 2/3...  Loss: 1.1927\n",
      "Epoch: 2/3...  Loss: 1.1407\n",
      "Epoch: 2/3...  Loss: 1.1028\n",
      "Epoch: 2/3...  Loss: 1.0667\n",
      "Epoch: 2/3...  Loss: 1.0243\n",
      "Epoch: 2/3...  Loss: 0.9750\n",
      "Epoch: 2/3...  Loss: 0.9478\n",
      "Epoch: 2/3...  Loss: 0.8848\n",
      "Epoch: 2/3...  Loss: 0.9179\n",
      "Epoch: 2/3...  Loss: 0.8365\n",
      "Epoch: 2/3...  Loss: 0.8444\n",
      "Epoch: 2/3...  Loss: 0.8130\n",
      "Epoch: 2/3...  Loss: 0.7897\n",
      "Epoch: 2/3...  Loss: 0.7828\n",
      "Epoch: 2/3...  Loss: 0.7685\n",
      "Epoch: 2/3...  Loss: 0.7536\n",
      "Epoch: 2/3...  Loss: 0.7360\n",
      "Epoch: 2/3...  Loss: 0.7176\n",
      "Epoch: 2/3...  Loss: 0.7084\n",
      "Epoch: 2/3...  Loss: 0.6801\n",
      "Epoch: 2/3...  Loss: 0.7066\n",
      "Epoch: 2/3...  Loss: 0.6561\n",
      "Epoch: 3/3...  Loss: 0.0672\n",
      "Epoch: 3/3...  Loss: 0.6474\n",
      "Epoch: 3/3...  Loss: 0.6398\n",
      "Epoch: 3/3...  Loss: 0.6179\n",
      "Epoch: 3/3...  Loss: 0.5943\n",
      "Epoch: 3/3...  Loss: 0.5946\n",
      "Epoch: 3/3...  Loss: 0.5851\n",
      "Epoch: 3/3...  Loss: 0.6044\n",
      "Epoch: 3/3...  Loss: 0.5628\n",
      "Epoch: 3/3...  Loss: 0.5490\n",
      "Epoch: 3/3...  Loss: 0.5613\n",
      "Epoch: 3/3...  Loss: 0.5474\n",
      "Epoch: 3/3...  Loss: 0.5709\n",
      "Epoch: 3/3...  Loss: 0.5383\n",
      "Epoch: 3/3...  Loss: 0.5435\n",
      "Epoch: 3/3...  Loss: 0.5151\n",
      "Epoch: 3/3...  Loss: 0.5316\n",
      "Epoch: 3/3...  Loss: 0.5235\n",
      "Epoch: 3/3...  Loss: 0.5108\n",
      "Epoch: 3/3...  Loss: 0.4936\n",
      "Epoch: 3/3...  Loss: 0.4946\n",
      "Epoch: 3/3...  Loss: 0.5120\n",
      "Epoch: 3/3...  Loss: 0.5010\n",
      "Epoch: 3/3...  Loss: 0.4783\n"
     ]
    }
   ],
   "source": [
    "epochs = 3\n",
    "print_every = 40\n",
    "steps = 0\n",
    "for e in range(epochs):\n",
    "    running_loss = 0\n",
    "    for images, labels in iter(trainloader):\n",
    "        steps += 1\n",
    "        # Flatten MNIST images into a 784 long vector\n",
    "        images.resize_(images.size()[0], 784)\n",
    "        \n",
    "        optimizer.zero_grad()\n",
    "        \n",
    "        # Forward and backward passes\n",
    "        output = model.forward(images)\n",
    "        loss = criterion(output, labels)\n",
    "        loss.backward()\n",
    "        optimizer.step()\n",
    "        \n",
    "        running_loss += loss.item()\n",
    "        \n",
    "        if steps % print_every == 0:\n",
    "            print(\"Epoch: {}/{}... \".format(e+1, epochs),\n",
    "                  \"Loss: {:.4f}\".format(running_loss/print_every))\n",
    "            \n",
    "            running_loss = 0"
   ]
  },
  {
   "cell_type": "markdown",
   "metadata": {},
   "source": [
    "With the network trained, we can check out it's predictions."
   ]
  },
  {
   "cell_type": "code",
   "execution_count": 48,
   "metadata": {},
   "outputs": [
    {
     "data": {
      "image/png": "[encoded data removed]",
      "text/plain": [
       "<matplotlib.figure.Figure at 0x7fd6f06bb898>"
      ]
     },
     "metadata": {
      "image/png": {
       "height": 224,
       "width": 423
      },
      "needs_background": "light"
     },
     "output_type": "display_data"
    }
   ],
   "source": [
    "images, labels = next(iter(trainloader))\n",
    "\n",
    "img = images[62].view(1, 784)\n",
    "# Turn off gradients to speed up this part\n",
    "with torch.no_grad():\n",
    "    logits = model.forward(img)\n",
    "\n",
    "# Output of the network are logits, need to take softmax for probabilities\n",
    "ps = F.softmax(logits, dim=1)\n",
    "helper.view_classify(img.view(1, 28, 28), ps)"
   ]
  },
  {
   "cell_type": "markdown",
   "metadata": {},
   "source": [
    "Now our network is brilliant. It can accurately predict the digits in our images. Next up you'll write the code for training a neural network on a more complex dataset."
   ]
  }
 ],
 "metadata": {
  "kernelspec": {
   "display_name": "Python 3",
   "language": "python",
   "name": "python3"
  },
  "language_info": {
   "codemirror_mode": {
    "name": "ipython",
    "version": 3
   },
   "file_extension": ".py",
   "mimetype": "text/x-python",
   "name": "python",
   "nbconvert_exporter": "python",
   "pygments_lexer": "ipython3",
   "version": "3.6.3"
  }
 },
 "nbformat": 4,
 "nbformat_minor": 2
}
